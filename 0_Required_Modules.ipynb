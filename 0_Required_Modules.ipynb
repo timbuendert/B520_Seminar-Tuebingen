{
  "nbformat": 4,
  "nbformat_minor": 0,
  "metadata": {
    "kernelspec": {
      "display_name": "Python 3",
      "language": "python",
      "name": "python3"
    },
    "language_info": {
      "codemirror_mode": {
        "name": "ipython",
        "version": 3
      },
      "file_extension": ".py",
      "mimetype": "text/x-python",
      "name": "python",
      "nbconvert_exporter": "python",
      "pygments_lexer": "ipython3",
      "version": "3.8.8"
    },
    "colab": {
      "name": "#0_Required_Modules.ipynb",
      "provenance": [],
      "collapsed_sections": []
    }
  },
  "cells": [
    {
      "cell_type": "markdown",
      "metadata": {
        "id": "7R5qYiDrbD05"
      },
      "source": [
        "# Notebook 0: List of required modules for analysis\n",
        "\n",
        "This notebook lists the Python modules that were used in the analysis."
      ]
    },
    {
      "cell_type": "code",
      "metadata": {
        "id": "TnVUfSXCbD06"
      },
      "source": [
        "import pandas\n",
        "import re\n",
        "import numpy\n",
        "import matplotlib\n",
        "import tqdm.notebook\n",
        "import collections\n",
        "import nltk\n",
        "import sklearn\n",
        "import pickle\n",
        "import copy \n",
        "import json\n",
        "import emoji\n",
        "import itertools\n",
        "import copy\n",
        "import gensim\n",
        "import umap.umap_\n",
        "import string\n",
        "import seaborn\n",
        "import statistics\n",
        "import warnings\n",
        "import lime\n",
        "import keras\n",
        "import xgboost"
      ],
      "execution_count": null,
      "outputs": []
    }
  ]
}